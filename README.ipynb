{
 "cells": [
  {
   "cell_type": "code",
   "execution_count": null,
   "id": "73577e36-0279-403e-9972-b7a837b8726c",
   "metadata": {},
   "outputs": [],
   "source": [
    "import readme"
   ]
  },
  {
   "cell_type": "markdown",
   "id": "63665d16-b213-48e2-be30-1de699eb468b",
   "metadata": {
    "collapsed": false,
    "jupyter": {
     "outputs_hidden": false
    }
   },
   "source": [
    "## Builtin packages\n",
    "\n",
    "```\n",
    "pandas\n",
    "matplotlib\n",
    "ipywidgets\n",
    "voila\n",
    "voila-gridstack\n",
    "python-dotenv\n",
    "requests\n",
    "jupyterlab-link-share\n",
    "gpt_jupyterlab\n",
    "loopgpt\n",
    "```"
   ]
  },
  {
   "cell_type": "markdown",
   "id": "a3bc7d3f-f058-4f83-b203-5f082cff28cb",
   "metadata": {
    "collapsed": false,
    "jupyter": {
     "outputs_hidden": false
    }
   },
   "source": [
    "### Voila\n",
    "Executes current notebook as an interactive web application.\n",
    "Just press the Voila button in the toolbar and a new tab will open\n",
    "with the application.\n",
    "\n",
    "### Loopgpt\n",
    "GPT in a loop to run complex tasks. To use it:\n",
    "\n",
    "1. Create a new notebook from the jupyterlab interface.\n",
    "2. Create a `env` file in the same directory with the open ai api key in the following way:\n",
    "```OPENAI_API_KEY=<your-key>```\n",
    "3. Import the `env` file in the notebook with the following code:\n",
    "```from dotenv import load_dotenv\n",
    "load_dotenv('env')\n",
    "```\n",
    "4. Create a loopgpt agent with the following code. Docs in [loopgpt](https://github.com/farizrahman4u/loopgpt)\n",
    "```\n",
    "from loopgpt.agent import Agent\n",
    "agent = Agent() # pass model=\"gpt-4\" to use gpt-4 (slower and more expensive but much better!!!)\n",
    "agent.name = 'Agent Name'\n",
    "agent.description = 'Agent description here ...'\n",
    "agent.goals = [\n",
    "    \"Goal 1 bla bla bla\",\n",
    "    \"Goal 2 bla bla bla\"\n",
    "    ...\n",
    "]\n",
    "cli = agent.cli(continuous=True) # continuous=True to run in a loop without supervision. On your own risk!!\n",
    "```\n",
    "\n",
    "Specify well the scope of the task when defining the goals to make sure it finishes the task in a reasonable time."
   ]
  },
  {
   "cell_type": "code",
   "execution_count": null,
   "id": "32efbdc5-ea1d-42a1-981e-ceffc89fda22",
   "metadata": {
    "collapsed": false,
    "jupyter": {
     "outputs_hidden": false
    }
   },
   "outputs": [],
   "source": [
    "import set_cwd\n",
    "import importlib\n",
    "set_cwd = importlib.reload(set_cwd)"
   ]
  },
  {
   "cell_type": "code",
   "execution_count": null,
   "id": "49503484-3e24-43ae-a03a-873a49f5e401",
   "metadata": {},
   "outputs": [],
   "source": [
    "set_cwd.set_cwd('jon-alamo', 'jonrivala@gmail.com', 'git@github.com:jon-alamo/persman.git')                "
   ]
  },
  {
   "cell_type": "code",
   "execution_count": null,
   "id": "fdb09060-1f50-4bbe-884f-142a5c6fecb9",
   "metadata": {},
   "outputs": [],
   "source": []
  }
 ],
 "metadata": {
  "kernelspec": {
   "display_name": "Python 3 (ipykernel)",
   "language": "python",
   "name": "python3"
  },
  "language_info": {
   "codemirror_mode": {
    "name": "ipython",
    "version": 3
   },
   "file_extension": ".py",
   "mimetype": "text/x-python",
   "name": "python",
   "nbconvert_exporter": "python",
   "pygments_lexer": "ipython3",
   "version": "3.10.13"
  }
 },
 "nbformat": 4,
 "nbformat_minor": 5
}
